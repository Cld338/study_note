{
 "cells": [
  {
   "cell_type": "markdown",
   "metadata": {},
   "source": [
    "## Sequential"
   ]
  },
  {
   "cell_type": "markdown",
   "metadata": {},
   "source": [
    "### 링크드 리스트"
   ]
  },
  {
   "cell_type": "code",
   "execution_count": 41,
   "metadata": {},
   "outputs": [],
   "source": [
    "class LinkedList():\n",
    "    class Node():\n",
    "        def __init__(self, value):\n",
    "            self.left = None\n",
    "            self.right = None\n",
    "            self.value = value\n",
    "\n",
    "    def __init__(self):\n",
    "        self.start = self.Node(None)\n",
    "        self.last = self.start\n",
    "        self.length = 0\n",
    "        \n",
    "    def append(self, value):\n",
    "        self.last.right = self.Node(value)\n",
    "        self.last, self.last.left = self.last.right, self.last\n",
    "        self.length+=1\n",
    "\n",
    "    def pop(self, index:int=None):\n",
    "        if index is None:\n",
    "            index = self.length-1\n",
    "        if index >= self.length:\n",
    "            return None\n",
    "        curr = self.start\n",
    "        for _ in range(index+1):\n",
    "            curr = curr.right\n",
    "        if index == self.length-1:\n",
    "            curr.left.right = None\n",
    "            self.last = curr.left\n",
    "        else:\n",
    "            curr.left.right, curr.right.left = curr.right, curr.left\n",
    "            self.last = curr.right\n",
    "        self.length-=1\n",
    "        return curr.value\n",
    "\n",
    "    def __str__(self):\n",
    "        seq = \"[\"\n",
    "        curr = self.start\n",
    "        while curr.right:\n",
    "            seq += curr.right.value\n",
    "            curr = curr.right\n",
    "            if curr.right:\n",
    "                seq+=\", \"\n",
    "        seq+=\"]\"\n",
    "        return seq\n"
   ]
  },
  {
   "cell_type": "code",
   "execution_count": 42,
   "metadata": {},
   "outputs": [
    {
     "name": "stdout",
     "output_type": "stream",
     "text": [
      "A\n",
      "B\n",
      "A\n",
      "[A, B, C]\n",
      "C !!!\n",
      "C\n",
      "[A, B]\n"
     ]
    }
   ],
   "source": [
    "ls = LinkedList()\n",
    "ls.append(\"A\")\n",
    "ls.append(\"B\")\n",
    "print(ls.start.right.value)\n",
    "print(ls.start.right.right.value)\n",
    "print(ls.start.right.right.left.value)\n",
    "ls.append(\"C\")\n",
    "print(ls)\n",
    "print(ls.pop())\n",
    "print(ls)"
   ]
  },
  {
   "cell_type": "markdown",
   "metadata": {},
   "source": [
    "### Queue"
   ]
  },
  {
   "cell_type": "code",
   "execution_count": 54,
   "metadata": {},
   "outputs": [],
   "source": [
    "class Queue(LinkedList):\n",
    "    def __init__(self):\n",
    "        super().__init__()\n",
    "\n",
    "    def pop(self, index:int=None):\n",
    "        index = 0 if index is None else index\n",
    "        if index >= self.length:\n",
    "            return None\n",
    "        curr = self.start\n",
    "        for _ in range(index+1):\n",
    "            curr = curr.right\n",
    "        if index == self.length-1:\n",
    "            curr.left.right = None\n",
    "            self.last = curr.left\n",
    "        else:\n",
    "            curr.left.right, curr.right.left = curr.right, curr.left\n",
    "            self.last = curr.right\n",
    "        self.length-=1\n",
    "        return curr.value"
   ]
  },
  {
   "cell_type": "code",
   "execution_count": 55,
   "metadata": {},
   "outputs": [
    {
     "name": "stdout",
     "output_type": "stream",
     "text": [
      "[A]\n",
      "[A, B]\n",
      "A\n",
      "[B]\n"
     ]
    }
   ],
   "source": [
    "q = Queue()\n",
    "q.append(\"A\")\n",
    "print(q)\n",
    "q.append(\"B\")\n",
    "print(q)\n",
    "print(q.pop())\n",
    "print(q)"
   ]
  },
  {
   "cell_type": "markdown",
   "metadata": {},
   "source": [
    "### Double-ended Queue (deque)"
   ]
  },
  {
   "cell_type": "code",
   "execution_count": null,
   "metadata": {},
   "outputs": [],
   "source": [
    "class Dequeue(LinkedList):\n",
    "\n",
    "    def __init__(self):\n",
    "        super().__init__()\n",
    "\n",
    "    def appendleft(self, value):\n",
    "        self.start.left = self.Node(value)\n",
    "        self.start, self.start.right = self.start.left, self.start\n",
    "        self.length+=1\n",
    "    \n",
    "    def popleft(self):\n",
    "        curr = self.start\n",
    "        curr.left.right, curr.right.left = curr.right, curr.left\n",
    "        self.last = curr.right\n",
    "        self.length-=1\n",
    "        return curr.value"
   ]
  },
  {
   "cell_type": "markdown",
   "metadata": {},
   "source": [
    "### Circular Queue"
   ]
  },
  {
   "cell_type": "code",
   "execution_count": null,
   "metadata": {},
   "outputs": [],
   "source": []
  }
 ],
 "metadata": {
  "kernelspec": {
   "display_name": "Python 3",
   "language": "python",
   "name": "python3"
  },
  "language_info": {
   "codemirror_mode": {
    "name": "ipython",
    "version": 3
   },
   "file_extension": ".py",
   "mimetype": "text/x-python",
   "name": "python",
   "nbconvert_exporter": "python",
   "pygments_lexer": "ipython3",
   "version": "3.7.7"
  }
 },
 "nbformat": 4,
 "nbformat_minor": 2
}
