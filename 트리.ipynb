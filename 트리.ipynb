{
 "cells": [
  {
   "cell_type": "markdown",
   "metadata": {},
   "source": [
    "## 이진 트리"
   ]
  },
  {
   "cell_type": "code",
   "execution_count": 31,
   "metadata": {},
   "outputs": [],
   "source": [
    "# 링크드 리스트로 구현한 이진트리\n",
    "class BinaryTree():\n",
    "    class Node():\n",
    "        def __init__(self, value):\n",
    "            self.left = None\n",
    "            self.right = None\n",
    "            self.value = value\n",
    "\n",
    "        def preorder(self):\n",
    "            print(self.value)\n",
    "            if not (self.left is None):\n",
    "                self.left.preorder()\n",
    "            if not (self.right is None):\n",
    "                self.right.preorder()\n",
    "        def inorder(self):\n",
    "            if not (self.left is None):\n",
    "                self.left.preorder()\n",
    "            print(self.value)\n",
    "            if not (self.right is None):\n",
    "                self.right.preorder()\n",
    "\n",
    "        def postorder(self):\n",
    "            if not (self.left is None):\n",
    "                self.left.preorder()\n",
    "            if not (self.right is None):\n",
    "                self.right.preorder()\n",
    "            print(self.value)\n",
    "        \n",
    "        # 스택으로 구현한 전위 순회\n",
    "        def preorder_stack(self):\n",
    "            stack = []\n",
    "            stack.append(self)\n",
    "            while stack:\n",
    "                node = stack.pop()\n",
    "                print(node.value)\n",
    "                if node.right:\n",
    "                    stack.append(node.right)\n",
    "                if node.left:\n",
    "                    stack.append(node.left)\n",
    "\n",
    "    def __init__(self):\n",
    "        self.root = None\n",
    "    \n",
    "    def levelorder(self):\n",
    "        queue = []\n",
    "        queue.append(self.root)\n",
    "        while queue:\n",
    "            node = queue.pop(0)\n",
    "            print(node.value)\n",
    "            if node.left:\n",
    "                queue.append(node.left)\n",
    "            if node.right:\n",
    "                queue.append(node.right)\n",
    "\n",
    "\n",
    "    \n",
    "\n",
    "BT = BinaryTree()\n",
    "BT.root = BT.Node(0)\n",
    "BT.root.left = BT.Node(1)\n",
    "BT.root.right = BT.Node(2)\n",
    "BT.root.left.left = BT.Node(3)\n",
    "BT.root.left.right = BT.Node(4)"
   ]
  },
  {
   "cell_type": "code",
   "execution_count": 32,
   "metadata": {},
   "outputs": [
    {
     "name": "stdout",
     "output_type": "stream",
     "text": [
      "1\n",
      "3\n",
      "4\n",
      "=\n",
      "1\n",
      "3\n",
      "4\n"
     ]
    }
   ],
   "source": [
    "BT.root.left.preorder()\n",
    "print(\"=\")\n",
    "BT.root.left.preorder_stack()"
   ]
  },
  {
   "cell_type": "code",
   "execution_count": 33,
   "metadata": {},
   "outputs": [
    {
     "name": "stdout",
     "output_type": "stream",
     "text": [
      "0\n",
      "1\n",
      "2\n",
      "3\n",
      "4\n"
     ]
    }
   ],
   "source": [
    "BT.levelorder()"
   ]
  },
  {
   "cell_type": "code",
   "execution_count": 30,
   "metadata": {},
   "outputs": [
    {
     "name": "stdout",
     "output_type": "stream",
     "text": [
      "0\n",
      "1\n",
      "3\n",
      "4\n",
      "2\n"
     ]
    }
   ],
   "source": [
    "BT_list = [0, 1, 2, 3, 4]\n",
    "# left: 2n+1\n",
    "# right: 2n+2 \n",
    "# parent: (n-1)//2\n",
    "idx = 0 # root\n",
    "def left(idx):\n",
    "    return 2*idx + 1\n",
    "def right(idx):\n",
    "    return 2*idx + 2\n",
    "def parent(idx):\n",
    "    return (idx-1)//2\n",
    "\n",
    "def preorder(idx):\n",
    "    print(BT_list[idx])\n",
    "    if left(idx) < len(BT_list):\n",
    "        preorder(left(idx))\n",
    "    if right(idx) < len(BT_list):\n",
    "        preorder(right(idx))\n",
    "\n",
    "preorder(0)"
   ]
  },
  {
   "cell_type": "markdown",
   "metadata": {},
   "source": [
    "## Heap"
   ]
  },
  {
   "cell_type": "code",
   "execution_count": null,
   "metadata": {},
   "outputs": [],
   "source": [
    "class Heap"
   ]
  }
 ],
 "metadata": {
  "kernelspec": {
   "display_name": "Python 3",
   "language": "python",
   "name": "python3"
  },
  "language_info": {
   "codemirror_mode": {
    "name": "ipython",
    "version": 3
   },
   "file_extension": ".py",
   "mimetype": "text/x-python",
   "name": "python",
   "nbconvert_exporter": "python",
   "pygments_lexer": "ipython3",
   "version": "3.7.7"
  }
 },
 "nbformat": 4,
 "nbformat_minor": 2
}
