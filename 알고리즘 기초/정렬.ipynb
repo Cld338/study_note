{
 "cells": [
  {
   "cell_type": "markdown",
   "metadata": {},
   "source": [
    "## 선택 정렬"
   ]
  },
  {
   "cell_type": "code",
   "execution_count": null,
   "metadata": {
    "vscode": {
     "languageId": "plaintext"
    }
   },
   "outputs": [],
   "source": [
    "def selection_sort(arr):\n",
    "    for i in range(len(arr) - 1):\n",
    "        min_idx = i\n",
    "        for j in range(i + 1, len(arr)):\n",
    "            if arr[j] < arr[min_idx]:\n",
    "                min_idx = j\n",
    "        arr[i], arr[min_idx] = arr[min_idx], arr[i]"
   ]
  },
  {
   "cell_type": "markdown",
   "metadata": {},
   "source": [
    "## 병합 정렬"
   ]
  },
  {
   "cell_type": "code",
   "execution_count": null,
   "metadata": {
    "vscode": {
     "languageId": "plaintext"
    }
   },
   "outputs": [],
   "source": [
    "def merge_sort(arr):\n",
    "    if len(arr) < 2:\n",
    "        return arr\n",
    "\n",
    "    mid = len(arr) // 2\n",
    "    low_arr = merge_sort(arr[:mid])\n",
    "    high_arr = merge_sort(arr[mid:])\n",
    "\n",
    "    merged_arr = []\n",
    "    l = h = 0\n",
    "    while l < len(low_arr) and h < len(high_arr):\n",
    "        if low_arr[l] < high_arr[h]:\n",
    "            merged_arr.append(low_arr[l])\n",
    "            l += 1\n",
    "        else:\n",
    "            merged_arr.append(high_arr[h])\n",
    "            h += 1\n",
    "    merged_arr += low_arr[l:]\n",
    "    merged_arr += high_arr[h:]\n",
    "    return merged_arr"
   ]
  }
 ],
 "metadata": {
  "language_info": {
   "name": "python"
  }
 },
 "nbformat": 4,
 "nbformat_minor": 2
}
