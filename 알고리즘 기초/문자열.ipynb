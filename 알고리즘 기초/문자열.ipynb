{
 "cells": [
  {
   "cell_type": "markdown",
   "metadata": {},
   "source": [
    "## 팰린드롬"
   ]
  },
  {
   "cell_type": "code",
   "execution_count": 1,
   "metadata": {},
   "outputs": [],
   "source": [
    "pal = \"asdfdsa\"\n",
    "nopal = \"asdfdss\""
   ]
  },
  {
   "cell_type": "code",
   "execution_count": 2,
   "metadata": {},
   "outputs": [],
   "source": [
    "def isPalindrome1(string: str):\n",
    "\treturn string==string[::-1]\n",
    "\n",
    "def isPalindrome2(strs):\n",
    "    while len(strs) > 1:\n",
    "    \tif strs.pop(0) != strs.pop():\n",
    "            return False\n",
    "    return True"
   ]
  },
  {
   "cell_type": "code",
   "execution_count": 3,
   "metadata": {},
   "outputs": [
    {
     "name": "stdout",
     "output_type": "stream",
     "text": [
      "True\n",
      "False\n"
     ]
    }
   ],
   "source": [
    "print(isPalindrome1(pal))\n",
    "print(isPalindrome1(nopal))\n",
    "\n",
    "print(isPalindrome2(list(pal)))\n",
    "print(isPalindrome2(list(nopal)))\n",
    "\n",
    "# isPalindrome1이 더 빠르다."
   ]
  },
  {
   "cell_type": "markdown",
   "metadata": {},
   "source": [
    "### 최장 팰린드롬 부분 문자열"
   ]
  },
  {
   "cell_type": "code",
   "execution_count": 4,
   "metadata": {},
   "outputs": [
    {
     "name": "stdout",
     "output_type": "stream",
     "text": [
      "dbabd\n"
     ]
    }
   ],
   "source": [
    "# Brute force 방식의 naive한 풀이\n",
    "def longestPalindrome(s: str) -> str:\n",
    "    for i in range(len(s)):\n",
    "        for j in range(i + 1):\n",
    "            temp = s[j:len(s) - i + j]\n",
    "            if temp == temp[::-1]:\n",
    "                return temp\n",
    "print(longestPalindrome(\"asdbabdds\"))"
   ]
  },
  {
   "cell_type": "code",
   "execution_count": 19,
   "metadata": {},
   "outputs": [
    {
     "name": "stdout",
     "output_type": "stream",
     "text": [
      "가장 긴 팰린드롬 부분 문자열: sbabs\n"
     ]
    }
   ],
   "source": [
    "def manacher(s: str) -> str:\n",
    "    t = \"@\" + \"@\".join(s) + \"@\"\n",
    "    n = len(t)\n",
    "    p = [0]*n\n",
    "    c = 0\n",
    "    r = 0\n",
    "\n",
    "    for i in range(n):\n",
    "        mirror = 2 * c - i\n",
    "        if i < r:\n",
    "            p[i]= min(p[mirror], r - i)\n",
    "            \n",
    "        while i + p[i] < n - 1 and i - p[i] - 1 >= 0 \\\n",
    "            and t[i + p[i] + 1] == t[i - p[i] - 1]: \n",
    "            p[i] += 1\n",
    "            # sequence의 길이를 벗어나지 않는 선에서\n",
    "            # 양쪽에 하나를 추가했을 때 팰린드롬을 만족한다면 p[i] += 1\n",
    "        \n",
    "        if i + p[i] > r:\n",
    "            c = i\n",
    "            r = i + p[i]\n",
    "    longest_length = max(p)\n",
    "    longest_idx = p.index(longest_length)\n",
    "\n",
    "    start_idx = (longest_idx - longest_length) // 2\n",
    "    return s[start_idx : start_idx + longest_length]\n",
    "    \n",
    "input_string = \"dsbabsad\"\n",
    "result = manacher(input_string)\n",
    "print(\"가장 긴 팰린드롬 부분 문자열:\", result)"
   ]
  },
  {
   "cell_type": "markdown",
   "metadata": {},
   "source": [
    "## 문자열 검색"
   ]
  },
  {
   "cell_type": "code",
   "execution_count": 22,
   "metadata": {},
   "outputs": [
    {
     "data": {
      "text/plain": [
       "5"
      ]
     },
     "execution_count": 22,
     "metadata": {},
     "output_type": "execute_result"
    }
   ],
   "source": [
    "# Sliding Window\n",
    "def search_text(seq: str, target: str):\n",
    "    n = len(seq)\n",
    "    k = len(target)\n",
    "    for i in range(n-k):\n",
    "        if seq[i:i+k] == target:\n",
    "            return i\n",
    "    return None\n",
    "sequence = \"asdkokoekoekfo\"\n",
    "target = \"koe\"\n",
    "search_text(sequence, target)"
   ]
  },
  {
   "cell_type": "code",
   "execution_count": null,
   "metadata": {},
   "outputs": [
    {
     "name": "stdout",
     "output_type": "stream",
     "text": [
      "Pattern found at indices: [10]\n"
     ]
    }
   ],
   "source": [
    "def compute_lps(pattern):\n",
    "    \"\"\"\n",
    "    실패 함수(LPS 배열)를 계산하는 함수.\n",
    "    \"\"\"\n",
    "    lps = [0] * len(pattern)\n",
    "    length = 0  # 이전 LPS 값\n",
    "    i = 1\n",
    "\n",
    "    while i < len(pattern):\n",
    "        if pattern[i] == pattern[length]:\n",
    "            length += 1\n",
    "            lps[i] = length\n",
    "            i += 1\n",
    "        else:\n",
    "            if length != 0:\n",
    "                length = lps[length - 1]\n",
    "            else:\n",
    "                lps[i] = 0\n",
    "                i += 1\n",
    "    return lps\n",
    "\n",
    "\n",
    "def kmp_search(text, pattern):\n",
    "    \"\"\"\n",
    "    KMP 알고리즘으로 문자열 검색을 수행하는 함수.\n",
    "    \"\"\"\n",
    "    m = len(pattern)\n",
    "    n = len(text)\n",
    "    lps = compute_lps(pattern)\n",
    "\n",
    "    i = 0  # 텍스트의 인덱스\n",
    "    j = 0  # 패턴의 인덱스\n",
    "\n",
    "    results = []\n",
    "\n",
    "    while i < n:\n",
    "        if text[i] == pattern[j]:\n",
    "            i += 1\n",
    "            j += 1\n",
    "        if j == m: \n",
    "            # 패턴의 끝까지 일치하는 경우\n",
    "            results.append(i - j) # 텍스트에서 패턴의 시작 인덱스\n",
    "            j = lps[j - 1] # 다음 위치로 이동\n",
    "        elif i < n and text[i] != pattern[j]:\n",
    "            # 일치하지 않는 경우\n",
    "            if j != 0:\n",
    "                j = lps[j - 1]\n",
    "            else:\n",
    "                i += 1\n",
    "    return results\n",
    "\n",
    "\n",
    "if __name__ == \"__main__\":\n",
    "    text = \"ABABDABACDABABCABAB\"\n",
    "    pattern = \"ABABCABAB\"\n",
    "    matches = kmp_search(text, pattern)\n",
    "    print(f\"Pattern found at indices: {matches}\")\n"
   ]
  },
  {
   "cell_type": "markdown",
   "metadata": {},
   "source": [
    "## 최장 공통 부분 문자열 (LCS)"
   ]
  },
  {
   "cell_type": "code",
   "execution_count": 13,
   "metadata": {},
   "outputs": [
    {
     "name": "stdout",
     "output_type": "stream",
     "text": [
      "CBBBC\n"
     ]
    }
   ],
   "source": [
    "a = \"BCBBBCDD\"\n",
    "b = \"CBBBCCED\"\n",
    "lcs_table = [[0] * (len(b) + 1) for _ in range(len(a) + 1)]\n",
    "for i in range(1, len(a) + 1):\n",
    "    for j in range(1, len(b) + 1):\n",
    "        if a[i - 1] == b[j - 1]:\n",
    "            lcs_table[i][j] = lcs_table[i - 1][j - 1] + 1\n",
    "        else:\n",
    "            lcs_table[i][j] = 0\n",
    "            \n",
    "longest = max(max(row) for row in lcs_table)\n",
    "result = \"\"\n",
    "for i in range(len(a) + 1):\n",
    "    for j in range(len(b) + 1):\n",
    "        if lcs_table[i][j] == longest:\n",
    "            result = a[i - longest:i]\n",
    "print(result)"
   ]
  },
  {
   "cell_type": "markdown",
   "metadata": {},
   "source": [
    "## 최장 공통 부분수열 (LCS)"
   ]
  },
  {
   "cell_type": "code",
   "execution_count": 15,
   "metadata": {},
   "outputs": [
    {
     "name": "stdout",
     "output_type": "stream",
     "text": [
      "6\n",
      "CBBBCC\n"
     ]
    }
   ],
   "source": [
    "a = \"BCBBBCCB\"\n",
    "b = \"CBBBCDDC\"\n",
    "lcs_table = [[0] * (len(b) + 1) for _ in range(len(a) + 1)]\n",
    "for i in range(1, len(a) + 1):\n",
    "    for j in range(1, len(b) + 1):\n",
    "        if a[i - 1] == b[j - 1]:\n",
    "            lcs_table[i][j] = lcs_table[i - 1][j - 1] + 1\n",
    "        else:\n",
    "            lcs_table[i][j] = max(lcs_table[i - 1][j], lcs_table[i][j - 1]) # 부분 문자열과 달리, 끊겨도 0으로 바꾸지 않는다.\n",
    "\n",
    "print(max(max(row) for row in lcs_table))\n",
    "# find sequence\n",
    "i = len(a)\n",
    "j = len(b)\n",
    "sequence = \"\"\n",
    "while i > 0 and j > 0:\n",
    "    if a[i - 1] == b[j - 1]: # 같은 문자인 경우\n",
    "        sequence += a[i - 1]\n",
    "        i -= 1\n",
    "        j -= 1\n",
    "    elif lcs_table[i - 1][j] > lcs_table[i][j - 1]: # 큰 쪽으로 이동\n",
    "        i -= 1\n",
    "    else:\n",
    "        j -= 1\n",
    "print(sequence[::-1])"
   ]
  },
  {
   "cell_type": "code",
   "execution_count": null,
   "metadata": {},
   "outputs": [],
   "source": []
  }
 ],
 "metadata": {
  "kernelspec": {
   "display_name": "Python 3",
   "language": "python",
   "name": "python3"
  },
  "language_info": {
   "codemirror_mode": {
    "name": "ipython",
    "version": 3
   },
   "file_extension": ".py",
   "mimetype": "text/x-python",
   "name": "python",
   "nbconvert_exporter": "python",
   "pygments_lexer": "ipython3",
   "version": "3.9.13"
  }
 },
 "nbformat": 4,
 "nbformat_minor": 2
}
