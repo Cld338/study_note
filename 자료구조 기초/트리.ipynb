{
 "cells": [
  {
   "cell_type": "markdown",
   "metadata": {},
   "source": [
    "## 목차\n",
    "---\n",
    "1 [트리](#트리)<br>\n",
    "1.1 [이진트리](#이진-트리)<br>\n",
    "1.2 [Heap](#heap) <br>\n"
   ]
  },
  {
   "cell_type": "markdown",
   "metadata": {},
   "source": [
    "## 1 트리"
   ]
  },
  {
   "cell_type": "markdown",
   "metadata": {},
   "source": [
    "### 1.1 이진 트리"
   ]
  },
  {
   "cell_type": "code",
   "execution_count": 31,
   "metadata": {},
   "outputs": [],
   "source": [
    "# 링크드 리스트로 구현한 이진트리\n",
    "class BinaryTree():\n",
    "    class Node():\n",
    "        def __init__(self, value):\n",
    "            self.left = None\n",
    "            self.right = None\n",
    "            self.value = value\n",
    "\n",
    "        def preorder(self):\n",
    "            print(self.value)\n",
    "            if not (self.left is None):\n",
    "                self.left.preorder()\n",
    "            if not (self.right is None):\n",
    "                self.right.preorder()\n",
    "        def inorder(self):\n",
    "            if not (self.left is None):\n",
    "                self.left.preorder()\n",
    "            print(self.value)\n",
    "            if not (self.right is None):\n",
    "                self.right.preorder()\n",
    "\n",
    "        def postorder(self):\n",
    "            if not (self.left is None):\n",
    "                self.left.preorder()\n",
    "            if not (self.right is None):\n",
    "                self.right.preorder()\n",
    "            print(self.value)\n",
    "        \n",
    "        # 스택으로 구현한 전위 순회\n",
    "        def preorder_stack(self):\n",
    "            stack = []\n",
    "            stack.append(self)\n",
    "            while stack:\n",
    "                node = stack.pop()\n",
    "                print(node.value)\n",
    "                if node.right:\n",
    "                    stack.append(node.right)\n",
    "                if node.left:\n",
    "                    stack.append(node.left)\n",
    "\n",
    "    def __init__(self):\n",
    "        self.root = None\n",
    "    \n",
    "    def levelorder(self):\n",
    "        queue = []\n",
    "        queue.append(self.root)\n",
    "        while queue:\n",
    "            node = queue.pop(0)\n",
    "            print(node.value)\n",
    "            if node.left:\n",
    "                queue.append(node.left)\n",
    "            if node.right:\n",
    "                queue.append(node.right)\n",
    "\n",
    "\n",
    "    \n",
    "\n",
    "BT = BinaryTree()\n",
    "BT.root = BT.Node(0)\n",
    "BT.root.left = BT.Node(1)\n",
    "BT.root.right = BT.Node(2)\n",
    "BT.root.left.left = BT.Node(3)\n",
    "BT.root.left.right = BT.Node(4)"
   ]
  },
  {
   "cell_type": "code",
   "execution_count": 32,
   "metadata": {},
   "outputs": [
    {
     "name": "stdout",
     "output_type": "stream",
     "text": [
      "1\n",
      "3\n",
      "4\n",
      "=\n",
      "1\n",
      "3\n",
      "4\n"
     ]
    }
   ],
   "source": [
    "BT.root.left.preorder()\n",
    "print(\"=\")\n",
    "BT.root.left.preorder_stack()"
   ]
  },
  {
   "cell_type": "code",
   "execution_count": 33,
   "metadata": {},
   "outputs": [
    {
     "name": "stdout",
     "output_type": "stream",
     "text": [
      "0\n",
      "1\n",
      "2\n",
      "3\n",
      "4\n"
     ]
    }
   ],
   "source": [
    "BT.levelorder()"
   ]
  },
  {
   "cell_type": "code",
   "execution_count": 30,
   "metadata": {},
   "outputs": [
    {
     "name": "stdout",
     "output_type": "stream",
     "text": [
      "0\n",
      "1\n",
      "3\n",
      "4\n",
      "2\n"
     ]
    }
   ],
   "source": [
    "BT_list = [0, 1, 2, 3, 4]\n",
    "# left: 2n+1\n",
    "# right: 2n+2 \n",
    "# parent: (n-1)//2\n",
    "idx = 0 # root\n",
    "def left(idx):\n",
    "    return 2*idx + 1\n",
    "def right(idx):\n",
    "    return 2*idx + 2\n",
    "def parent(idx):\n",
    "    return (idx-1)//2\n",
    "\n",
    "def preorder(idx):\n",
    "    print(BT_list[idx])\n",
    "    if left(idx) < len(BT_list):\n",
    "        preorder(left(idx))\n",
    "    if right(idx) < len(BT_list):\n",
    "        preorder(right(idx))\n",
    "\n",
    "preorder(0)"
   ]
  },
  {
   "cell_type": "markdown",
   "metadata": {},
   "source": [
    "## 1.2 Heap"
   ]
  },
  {
   "cell_type": "code",
   "execution_count": null,
   "metadata": {},
   "outputs": [
    {
     "name": "stdout",
     "output_type": "stream",
     "text": [
      "1 2 3 4 5 \n",
      "1\n",
      "2 4 3 5 \n",
      "2 4 3 5 5 \n",
      "1 4 2 5 5 3 \n",
      "3 4 5 5 \n",
      "3\n",
      "4\n",
      "5\n",
      "5\n",
      "Heap is empty.\n"
     ]
    }
   ],
   "source": [
    "class Heap:\n",
    "    class Node:\n",
    "        def __init__(self, value):\n",
    "            self.left = None\n",
    "            self.right = None\n",
    "            self.value = value\n",
    "\n",
    "        def __str__(self):\n",
    "            return str(self.value)\n",
    "\n",
    "    def __init__(self):\n",
    "        self.root = None\n",
    "\n",
    "    def levelorder(self):\n",
    "        if not self.root:\n",
    "            print(\"Heap is empty.\")\n",
    "            return\n",
    "        queue = [self.root]\n",
    "        while queue:\n",
    "            curr = queue.pop(0)\n",
    "            print(curr.value, end=\" \")\n",
    "            if curr.left:\n",
    "                queue.append(curr.left)\n",
    "            if curr.right:\n",
    "                queue.append(curr.right)\n",
    "        print()\n",
    "\n",
    "    def _empty_node(self):\n",
    "        queue = [[self.root, [self.root]]]\n",
    "        while queue:\n",
    "            curr, path = queue.pop(0)\n",
    "            if curr.left is None:\n",
    "                return [curr, \"l\", path]\n",
    "            queue.append([curr.left, path+[curr.left]])\n",
    "            if curr.right is None:\n",
    "                return [curr, \"r\", path]\n",
    "            queue.append([curr.right, path+[curr.right]])\n",
    "\n",
    "    def _last_node(self):\n",
    "        queue = [[self.root, []]]\n",
    "        lr = None\n",
    "        while queue:\n",
    "            curr, path = queue.pop(0)\n",
    "            if curr.left:\n",
    "                queue.append([curr.left, path+[curr]])\n",
    "                lr = \"l\"\n",
    "            if curr.right:\n",
    "                queue.append([curr.right, path+[curr]])\n",
    "                lr = \"r\"\n",
    "        return [path, lr]\n",
    "\n",
    "    def append(self, value):\n",
    "        if self.root is None:\n",
    "            self.root = self.Node(value)\n",
    "            return\n",
    "        node, lr, path = self._empty_node()\n",
    "        new_node = self.Node(value)\n",
    "        if lr == \"l\":\n",
    "            node.left = new_node\n",
    "        elif lr == \"r\":\n",
    "            node.right = new_node\n",
    "        self._heapify_up(new_node, path)\n",
    "\n",
    "    def _heapify_up(self, node, path):\n",
    "        while path:\n",
    "            parent = path.pop()\n",
    "            if parent.value > node.value:\n",
    "                parent.value, node.value = node.value, parent.value\n",
    "                node = parent\n",
    "            else:\n",
    "                break\n",
    "\n",
    "    def _heapify_down(self, node):\n",
    "        while node:\n",
    "            smallest = node\n",
    "            if node.left and node.left.value < smallest.value:\n",
    "                smallest = node.left\n",
    "            if node.right and node.right.value < smallest.value:\n",
    "                smallest = node.right\n",
    "            if smallest == node:\n",
    "                break\n",
    "            # Swap values with the smallest child\n",
    "            node.value, smallest.value = smallest.value, node.value\n",
    "            node = smallest\n",
    "\n",
    "    def pop(self):\n",
    "        if self.root:\n",
    "            value = self.root.value\n",
    "        else: \n",
    "            return\n",
    "        if self.root.left==None:\n",
    "            value, self.root = self.root.value, None\n",
    "            return value\n",
    "        path, lr = self._last_node()\n",
    "        if path:\n",
    "            parent = path.pop()\n",
    "        else:\n",
    "            return\n",
    "        if lr==\"l\":\n",
    "            self.root.value, parent.left = parent.left.value, None\n",
    "        elif lr==\"r\":\n",
    "            self.root.value, parent.right = parent.right.value, None\n",
    "        self._heapify_down(self.root)\n",
    "        return value\n",
    "    \n"
   ]
  },
  {
   "cell_type": "code",
   "execution_count": 68,
   "metadata": {},
   "outputs": [
    {
     "name": "stdout",
     "output_type": "stream",
     "text": [
      "1 2 3 4 5 \n",
      "1\n",
      "2 4 3 5 \n",
      "2 4 3 5 5 \n",
      "1 4 2 5 5 3 \n",
      "1\n",
      "2\n",
      "3 4 5 5 \n",
      "3\n",
      "4\n",
      "5\n",
      "5\n",
      "Heap is empty.\n"
     ]
    }
   ],
   "source": [
    "H = Heap()\n",
    "H.append(4)\n",
    "H.append(3)\n",
    "H.append(2)\n",
    "H.append(1)\n",
    "H.append(5)\n",
    "H.levelorder() \n",
    "\n",
    "print(H.pop())\n",
    "H.levelorder()\n",
    "H.append(5)\n",
    "H.levelorder()\n",
    "H.append(1)\n",
    "H.levelorder()\n",
    "print(H.pop())\n",
    "print(H.pop())\n",
    "H.levelorder()\n",
    "print(H.pop())\n",
    "print(H.pop())\n",
    "print(H.pop())\n",
    "print(H.pop())\n",
    "H.levelorder()"
   ]
  },
  {
   "cell_type": "code",
   "execution_count": null,
   "metadata": {},
   "outputs": [],
   "source": [
    "\n"
   ]
  }
 ],
 "metadata": {
  "kernelspec": {
   "display_name": "Python 3",
   "language": "python",
   "name": "python3"
  },
  "language_info": {
   "codemirror_mode": {
    "name": "ipython",
    "version": 3
   },
   "file_extension": ".py",
   "mimetype": "text/x-python",
   "name": "python",
   "nbconvert_exporter": "python",
   "pygments_lexer": "ipython3",
   "version": "3.7.7"
  }
 },
 "nbformat": 4,
 "nbformat_minor": 2
}
